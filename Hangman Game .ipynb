{
 "cells": [
  {
   "cell_type": "code",
   "execution_count": 3,
   "id": "12bbc918-73cc-4aec-9d74-a981fd3806a3",
   "metadata": {},
   "outputs": [
    {
     "name": "stdin",
     "output_type": "stream",
     "text": [
      "What is your name? Vaishnavi \n"
     ]
    },
    {
     "name": "stdout",
     "output_type": "stream",
     "text": [
      "Hello, Vaishnavi , Time to play hangman!\n",
      " \n",
      "Start guessing...\n",
      "\n",
      "Hint: This is a large, gray animal.\n",
      "_ _ _ _ _ _ _ _ \n"
     ]
    },
    {
     "name": "stdin",
     "output_type": "stream",
     "text": [
      "Guess a character:  y\n"
     ]
    },
    {
     "name": "stdout",
     "output_type": "stream",
     "text": [
      "\n",
      "Oops, that's not quite right.\n",
      "You have 9 more guesses\n",
      "_ _ _ _ _ _ _ _ \n"
     ]
    },
    {
     "name": "stdin",
     "output_type": "stream",
     "text": [
      "Guess a character:  p\n"
     ]
    },
    {
     "name": "stdout",
     "output_type": "stream",
     "text": [
      "_ _ _ p _ _ _ _ \n"
     ]
    },
    {
     "name": "stdin",
     "output_type": "stream",
     "text": [
      "Guess a character:  n\n"
     ]
    },
    {
     "name": "stdout",
     "output_type": "stream",
     "text": [
      "_ _ _ p _ _ n _ \n"
     ]
    },
    {
     "name": "stdin",
     "output_type": "stream",
     "text": [
      "Guess a character:  l\n"
     ]
    },
    {
     "name": "stdout",
     "output_type": "stream",
     "text": [
      "_ l _ p _ _ n _ \n"
     ]
    },
    {
     "name": "stdin",
     "output_type": "stream",
     "text": [
      "Guess a character:  v\n"
     ]
    },
    {
     "name": "stdout",
     "output_type": "stream",
     "text": [
      "\n",
      "Oops, that's not quite right.\n",
      "You have 8 more guesses\n",
      "_ l _ p _ _ n _ \n"
     ]
    },
    {
     "name": "stdin",
     "output_type": "stream",
     "text": [
      "Guess a character:  a\n"
     ]
    },
    {
     "name": "stdout",
     "output_type": "stream",
     "text": [
      "_ l _ p _ a n _ \n"
     ]
    },
    {
     "name": "stdin",
     "output_type": "stream",
     "text": [
      "Guess a character:  e\n"
     ]
    },
    {
     "name": "stdout",
     "output_type": "stream",
     "text": [
      "e l e p _ a n _ \n"
     ]
    },
    {
     "name": "stdin",
     "output_type": "stream",
     "text": [
      "Guess a character:  h\n"
     ]
    },
    {
     "name": "stdout",
     "output_type": "stream",
     "text": [
      "e l e p h a n _ \n"
     ]
    },
    {
     "name": "stdin",
     "output_type": "stream",
     "text": [
      "Guess a character:  h\n"
     ]
    },
    {
     "name": "stdout",
     "output_type": "stream",
     "text": [
      "e l e p h a n _ \n"
     ]
    },
    {
     "name": "stdin",
     "output_type": "stream",
     "text": [
      "Guess a character:  i\n"
     ]
    },
    {
     "name": "stdout",
     "output_type": "stream",
     "text": [
      "\n",
      "Oops, that's not quite right.\n",
      "You have 7 more guesses\n",
      "e l e p h a n _ \n"
     ]
    },
    {
     "name": "stdin",
     "output_type": "stream",
     "text": [
      "Guess a character:  t\n"
     ]
    },
    {
     "name": "stdout",
     "output_type": "stream",
     "text": [
      "e l e p h a n t \n",
      "You've cracked the code!\n"
     ]
    }
   ],
   "source": [
    "import time\n",
    "\n",
    "name = input(\"What is your name?\")  # welcoming the user\n",
    "print(\"Hello, \" + name + \", Time to play hangman!\")\n",
    "\n",
    "print(\" \")\n",
    "\n",
    "time.sleep(1)  # wait for 1 second\n",
    "\n",
    "print(\"Start guessing...\")\n",
    "\n",
    "time.sleep(0.5)\n",
    "\n",
    "# Set the secret word and print a hint\n",
    "secret_word = \"elephant\"\n",
    "print(\"\\nHint: This is a large, gray animal.\")\n",
    "\n",
    "guesses = \"\"  # creates an variable with an empty value\n",
    "correct_guesses = \"\"  # store correctly guessed letters\n",
    "\n",
    "turns = 10  # determine the number of turns\n",
    "\n",
    "# Create a while loop\n",
    "while turns > 0:  # check if the turns are more than zero\n",
    "    failed = 0  # make a counter that starts with zero\n",
    "\n",
    "    for char in secret_word:  # for every character in secret_word\n",
    "        if char in guesses:\n",
    "            if char in correct_guesses:\n",
    "                print(char, end=\" \")\n",
    "            else:\n",
    "                print(\"_\", end=\" \")\n",
    "                failed += 1\n",
    "        else:\n",
    "            print(\"_\", end=\" \")\n",
    "            failed += 1\n",
    "\n",
    "    if failed == 0:  # print You Won\n",
    "        print(\"\\nYou've cracked the code!\")  # print You Won\n",
    "        break  # exit the script\n",
    "\n",
    "    print()\n",
    "\n",
    "    guess = input(\"Guess a character: \")  # ask the user go guess a character\n",
    "    guesses += guess  # set the players guess to guesses\n",
    "\n",
    "    if guess in secret_word:\n",
    "        correct_guesses += guess  # add correctly guessed letter\n",
    "\n",
    "    if guess not in secret_word:  # if the guess is not found in the secret word\n",
    "        turns -= 1  # turns counter decreases with 1 (now 9)\n",
    "        print(\"\\nOops, that's not quite right.\")  # print wrong\n",
    "        print(\"You have\", turns, \"more guesses\")  # how many turns are left\n",
    "\n",
    "    if turns == 0:  # if the turns are equal to zero\n",
    "        print(\"\\nUh-oh, you've run out of tries!\")  # print \"You Lose\"\n",
    "        print(\"The word was:\", secret_word)"
   ]
  },
  {
   "cell_type": "code",
   "execution_count": null,
   "id": "1dd11cab-e8b0-449a-a1b8-4753d3dd747c",
   "metadata": {},
   "outputs": [],
   "source": []
  }
 ],
 "metadata": {
  "kernelspec": {
   "display_name": "Python 3 (ipykernel)",
   "language": "python",
   "name": "python3"
  },
  "language_info": {
   "codemirror_mode": {
    "name": "ipython",
    "version": 3
   },
   "file_extension": ".py",
   "mimetype": "text/x-python",
   "name": "python",
   "nbconvert_exporter": "python",
   "pygments_lexer": "ipython3",
   "version": "3.12.4"
  }
 },
 "nbformat": 4,
 "nbformat_minor": 5
}
